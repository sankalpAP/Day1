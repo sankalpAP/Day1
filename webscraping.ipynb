{
  "nbformat": 4,
  "nbformat_minor": 0,
  "metadata": {
    "colab": {
      "provenance": [],
      "collapsed_sections": [],
      "toc_visible": true,
      "include_colab_link": true
    },
    "kernelspec": {
      "name": "python3",
      "display_name": "Python 3"
    },
    "language_info": {
      "name": "python"
    }
  },
  "cells": [
    {
      "cell_type": "markdown",
      "metadata": {
        "id": "view-in-github",
        "colab_type": "text"
      },
      "source": [
        "<a href=\"https://colab.research.google.com/github/sankalpAP/Day1/blob/main/webscraping.ipynb\" target=\"_parent\"><img src=\"https://colab.research.google.com/assets/colab-badge.svg\" alt=\"Open In Colab\"/></a>"
      ]
    },
    {
      "cell_type": "code",
      "execution_count": 7,
      "metadata": {
        "colab": {
          "base_uri": "https://localhost:8080/"
        },
        "id": "ZXsOMrHX4kDo",
        "outputId": "df8556fa-5966-45d7-99a0-75c70844d409"
      },
      "outputs": [
        {
          "output_type": "stream",
          "name": "stdout",
          "text": [
            "NEW YORK TODAY\n",
            "\n",
            "Collecting...\n",
            "\n",
            "49°F\n",
            "9°C\n",
            "Fair\n"
          ]
        }
      ],
      "source": [
        "import requests\n",
        "import time\n",
        "time.sleep(2)\n",
        "res = requests.get('https://forecast.weather.gov/MapClick.php?lat=40.7146&lon=-74.0071')\n",
        "res.raise_for_status()\n",
        "playFile = open('weat.htm', 'wb')\n",
        "for chunk in res.iter_content(100000):\n",
        "    playFile.write(chunk)\n",
        "playFile.close()\n",
        "import bs4\n",
        "exampleFile = open('weat.htm')\n",
        "exampleSoup = bs4.BeautifulSoup(exampleFile.read())\n",
        "soup = bs4.BeautifulSoup(open('weat.htm'))\n",
        "pElem = soup.select('p')\n",
        "\n",
        "print('NEW YORK TODAY\\n')\n",
        "#print('BUFFALO TODAY\\n')print('BUFFALO TODAY\\n')print('BUFFALO TODAY\\n')print('BUFFALO TODAY\\n')\n",
        "print('Collecting...\\n')\n",
        "\n",
        "pElem[4].getText()\n",
        "print(pElem[4].getText(),end='\\n')\n",
        "pElem[5].getText()\n",
        "print(pElem[5].getText(),end='\\n')\n",
        "pElem[3].getText()\n",
        "#elem number by searching <\\p>!!\n",
        "print(pElem[3].getText(),end='\\n')\n",
        "#print('end')\n"
      ]
    },
    {
      "cell_type": "code",
      "source": [
        "# to open/create a new html file in the write mode\n",
        "f = open('GFG.html', 'w')\n",
        "\n",
        "# the html code which will go in the file GFG.html\n",
        "html_template = \"\"\"<html>\n",
        "<head>\n",
        "<title>Title</title>\n",
        "</head>\n",
        "<body>\n",
        "<h2>Welcome To GFG</h2>\n",
        "\n",
        "<p>Default code has been loaded into the Editor.</p>\n",
        "\n",
        "</body>\n",
        "</html>\n",
        "\"\"\"\n",
        "\n",
        "# writing the code into the file\n",
        "f.write(html_template)\n",
        "\n",
        "# close the file\n",
        "f.close()\n"
      ],
      "metadata": {
        "id": "FF-YRnIIAq_l"
      },
      "execution_count": 8,
      "outputs": []
    },
    {
      "cell_type": "code",
      "source": [],
      "metadata": {
        "id": "O7I6ye67CUGU"
      },
      "execution_count": 8,
      "outputs": []
    }
  ]
}